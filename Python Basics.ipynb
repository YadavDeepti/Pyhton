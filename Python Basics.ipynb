{
 "cells": [
  {
   "cell_type": "code",
   "execution_count": 1,
   "id": "0cf78320-43fa-48d9-b842-f087c9ff95e3",
   "metadata": {},
   "outputs": [
    {
     "name": "stdout",
     "output_type": "stream",
     "text": [
      "hello\n"
     ]
    }
   ],
   "source": [
    "print(\"hello\")"
   ]
  },
  {
   "cell_type": "code",
   "execution_count": 3,
   "id": "5dca1c5f-df36-436f-bbbd-f5c5b28ad89e",
   "metadata": {},
   "outputs": [
    {
     "name": "stdin",
     "output_type": "stream",
     "text": [
      "Enter a number: 6\n"
     ]
    },
    {
     "name": "stdout",
     "output_type": "stream",
     "text": [
      "Even Number\n"
     ]
    }
   ],
   "source": [
    "num = input(\"Enter a number:\")\n",
    "num = int(num)\n",
    "if num%2 == 0 :\n",
    "    print(\"Even Number\")\n",
    "else:\n",
    "    print(\"Odd Number\")"
   ]
  },
  {
   "cell_type": "code",
   "execution_count": 4,
   "id": "38a7ae5f-c53e-4022-bcb9-45a83cd38298",
   "metadata": {},
   "outputs": [
    {
     "name": "stdin",
     "output_type": "stream",
     "text": [
      "Enter a dish name: biryani\n"
     ]
    },
    {
     "name": "stdout",
     "output_type": "stream",
     "text": [
      "indian\n"
     ]
    }
   ],
   "source": [
    "indian = [\"biryani\", \"samosa\", \"rasgulla\"]\n",
    "italian = [\"pasta\", \"pizza\", \"risotto\"]\n",
    "chinese = [\"nudles\", \"fried-rice\", \"manchurian\"]\n",
    "dish = input(\"Enter a dish name:\")\n",
    "if dish in indian:\n",
    "    print(\"indian\")\n",
    "elif dish in chinese:\n",
    "    print(\"chinese\")\n",
    "elif dish in italian:\n",
    "    print(\"italian\")\n",
    "else:\n",
    "    print(\"Not in the list\")"
   ]
  },
  {
   "cell_type": "code",
   "execution_count": 5,
   "id": "b05c7dfa-2884-4e4e-9073-321836f1822b",
   "metadata": {},
   "outputs": [
    {
     "name": "stdout",
     "output_type": "stream",
     "text": [
      "13020\n"
     ]
    }
   ],
   "source": [
    "expenditure = [2340, 2500, 2100,3100,2980]\n",
    "total = 0\n",
    "for item in expenditure:\n",
    "    total = total + item\n",
    "print(total)"
   ]
  },
  {
   "cell_type": "code",
   "execution_count": 10,
   "id": "3e321d03-2e03-415e-937c-165f841441fb",
   "metadata": {},
   "outputs": [
    {
     "name": "stdout",
     "output_type": "stream",
     "text": [
      "Month: 1 Expenses: 2340\n",
      "Month: 2 Expenses: 2500\n",
      "Month: 3 Expenses: 2100\n",
      "Month: 4 Expenses: 3100\n",
      "Month: 5 Expenses: 2980\n",
      "Total Expenses: 39060\n"
     ]
    }
   ],
   "source": [
    "expenditure = [2340, 2500, 2100,3100,2980]\n",
    "for item in range(len(expenditure)):\n",
    "    print(\"Month:\", (item +1), \"Expenses:\", expenditure[item])\n",
    "    total = total + expenditure[item]\n",
    "print(\"Total Expenses:\", total)"
   ]
  },
  {
   "cell_type": "code",
   "execution_count": 14,
   "id": "d2e3dfcd-2ffd-47c4-aedd-b690ff6f2f2a",
   "metadata": {},
   "outputs": [
    {
     "name": "stdout",
     "output_type": "stream",
     "text": [
      "key is not found\n",
      "key is not found\n",
      "key is found: chair\n"
     ]
    }
   ],
   "source": [
    "key_location = \"chair\"\n",
    "location = [\"garage\", \"drawing_room\", \"chair\", \"closet\"]\n",
    "for i in location:\n",
    "    if i == key_location:\n",
    "      print(\"key is found:\", i)\n",
    "      break\n",
    "    else:\n",
    "        print(\"key is not found\")\n",
    "    \n",
    "    "
   ]
  },
  {
   "cell_type": "code",
   "execution_count": 15,
   "id": "971bc2d0-670f-4fe0-b136-f4569ec46e6e",
   "metadata": {},
   "outputs": [
    {
     "name": "stdout",
     "output_type": "stream",
     "text": [
      "1\n",
      "9\n",
      "25\n"
     ]
    }
   ],
   "source": [
    "for i in range(1,6):\n",
    "    if i%2 == 0:\n",
    "        continue\n",
    "    print(i*i)"
   ]
  },
  {
   "cell_type": "code",
   "execution_count": 1,
   "id": "c46e06c3-cd20-416d-a80d-776a0885ec43",
   "metadata": {},
   "outputs": [
    {
     "name": "stdout",
     "output_type": "stream",
     "text": [
      "1\n",
      "2\n",
      "3\n",
      "4\n",
      "5\n"
     ]
    }
   ],
   "source": [
    "i = 1\n",
    "while i <= 5:\n",
    "    print(i)\n",
    "    i = i + 1\n"
   ]
  },
  {
   "cell_type": "code",
   "execution_count": 4,
   "id": "420d3c99-dc2a-43f9-a713-600970cc158c",
   "metadata": {},
   "outputs": [
    {
     "name": "stdout",
     "output_type": "stream",
     "text": [
      "Tom's total expenses: 9000\n",
      "Joe's total expenses: 1400\n"
     ]
    }
   ],
   "source": [
    "def caluculate_total(exp):\n",
    " total = 0\n",
    " for item in exp:\n",
    "    total = total + item\n",
    " return total\n",
    "\n",
    "toms_exp_list = [2100,3400,3500]\n",
    "joes_exp_list = [200,500,700]\n",
    "\n",
    "toms_total = caluculate_total(toms_exp_list)\n",
    "joes_total = caluculate_total(joes_exp_list)\n",
    "\n",
    "print(\"Tom's total expenses:\", toms_total)\n",
    "print(\"Joe's total expenses:\", joes_total)"
   ]
  },
  {
   "cell_type": "code",
   "execution_count": null,
   "id": "3f3ce3fe-c597-43c8-b86d-4f79da30b801",
   "metadata": {},
   "outputs": [],
   "source": []
  }
 ],
 "metadata": {
  "kernelspec": {
   "display_name": "Python 3 (ipykernel)",
   "language": "python",
   "name": "python3"
  },
  "language_info": {
   "codemirror_mode": {
    "name": "ipython",
    "version": 3
   },
   "file_extension": ".py",
   "mimetype": "text/x-python",
   "name": "python",
   "nbconvert_exporter": "python",
   "pygments_lexer": "ipython3",
   "version": "3.12.3"
  }
 },
 "nbformat": 4,
 "nbformat_minor": 5
}
